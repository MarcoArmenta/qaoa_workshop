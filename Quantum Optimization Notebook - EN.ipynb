{
 "cells": [
  {
   "cell_type": "markdown",
   "metadata": {
    "id": "_EcftCQMBXB8"
   },
   "source": [
    "# Quantum Optimization with QAOA\n",
    "\n",
    "In this notebook we will present:\n",
    "\n",
    "1) How to prepare a state with a quantum circuit using the `QuantumCircuit` object from Qiskit.\n",
    "\n",
    "2) How to build an observable using the `opflow` operators from Qiskit.\n",
    "\n",
    "3) How to estimate the gain of our MaxCut instance using an observable and a quantum circuit.\n",
    "\n",
    "4) An inspection of the QAOA variational quantum circuit.\n",
    "\n",
    "5) How to perform classical optimization of the parameters on the QAOA circuit.\n",
    "\n",
    "6) An analysis of the impact of layer repetition on the QAOA circuit."
   ]
  },
  {
   "cell_type": "markdown",
   "metadata": {
    "id": "t2YuQCBeBXB_"
   },
   "source": [
    "## First we install and import dependencies"
   ]
  },
  {
   "cell_type": "code",
   "execution_count": null,
   "metadata": {
    "colab": {
     "base_uri": "https://localhost:8080/"
    },
    "id": "qDl_6zQYBXB_",
    "outputId": "44812413-66fc-4c27-cffa-53ad8f74cd3c"
   },
   "outputs": [],
   "source": [
    "!pip install qiskit\n",
    "!pip install qiskit_aer\n",
    "!pip install matplotlib\n",
    "!pip install pylatexenc\n",
    "!pip install scipy\n",
    "\n",
    "!git clone https://github.com/MarcoArmenta/qaoa_workshop.git"
   ]
  },
  {
   "cell_type": "code",
   "execution_count": null,
   "metadata": {
    "id": "Nk_jNfhqBXCA"
   },
   "outputs": [],
   "source": [
    "import networkx as nx\n",
    "\n",
    "from qiskit import QuantumCircuit\n",
    "from qiskit.circuit.library.n_local.qaoa_ansatz import QAOAAnsatz\n",
    "from qiskit.primitives import BackendEstimatorV2 as Estimator, BackendSamplerV2 as Sampler\n",
    "from qiskit.quantum_info import SparsePauliOp\n",
    "from qiskit.visualization import plot_histogram\n",
    "from qiskit_aer import AerSimulator\n",
    "\n",
    "from scipy.optimize import minimize"
   ]
  },
  {
   "cell_type": "code",
   "execution_count": null,
   "metadata": {
    "id": "ETu2L_z7BXCB"
   },
   "outputs": [],
   "source": [
    "import os\n",
    "import sys\n",
    "sys.path.insert(0, '/content/atelier_qaoa')\n",
    "\n",
    "from QAOA_AlgoLab import *"
   ]
  },
  {
   "cell_type": "code",
   "execution_count": null,
   "metadata": {
    "colab": {
     "base_uri": "https://localhost:8080/"
    },
    "id": "SOtbbQr3BXCB",
    "outputId": "567d7a8b-2468-4113-80ef-990586a2eca1"
   },
   "outputs": [],
   "source": [
    "test_function()"
   ]
  },
  {
   "cell_type": "markdown",
   "metadata": {
    "id": "voTqsuiZBXCC"
   },
   "source": [
    "## Quantum State Preparation\n",
    "\n",
    "Let's start by preparing a quantum state with a quantum circuit. Let's prepare the state $|01011\\rangle$."
   ]
  },
  {
   "cell_type": "code",
   "execution_count": null,
   "metadata": {
    "colab": {
     "base_uri": "https://localhost:8080/",
     "height": 384
    },
    "id": "xhQuHcohBXCC",
    "outputId": "f5261105-d00f-4b4a-a300-40f873e67380"
   },
   "outputs": [],
   "source": [
    "qc_trial = QuantumCircuit(5)\n",
    "qc_trial.x([0,1,3])\n",
    "qc_trial.draw('mpl')"
   ]
  },
  {
   "cell_type": "markdown",
   "metadata": {
    "id": "GAHNXbb2BXCD"
   },
   "source": [
    "We can verify that the prepared state is the correct state with the `qasm_simulator`.\n",
    "The following code will print a dictionary of counts of the basis states obtained after running and measuring the quantum circuit `qc_trial` that we build before."
   ]
  },
  {
   "cell_type": "code",
   "execution_count": null,
   "metadata": {
    "colab": {
     "base_uri": "https://localhost:8080/"
    },
    "id": "ny4oH3LABXCE",
    "outputId": "e9a93845-6ba0-4a5d-fc1f-64757a95c118"
   },
   "outputs": [],
   "source": [
    "# We first choose a backend to run the experiment. In this case, the qasm_simulator is used.\n",
    "simulator = AerSimulator(shots=100)\n",
    "\n",
    "# We copy the quantum circuit we build before to add measurements\n",
    "qc_trial_state = qc_trial.copy()\n",
    "# measure_all() methods builds a classical register on the QuantumCircuit\n",
    "qc_trial.measure_all()\n",
    "\n",
    "# We execute the experiment on the given backend with the corresponding specificacions\n",
    "# and get the dictionary of counts of the experiment\n",
    "counts = simulator.run(qc_trial).result().get_counts()\n",
    "print(counts)"
   ]
  },
  {
   "cell_type": "markdown",
   "metadata": {
    "id": "7bKtBon_BXCF"
   },
   "source": [
    "# Exercise 1\n",
    "Build a quantum circuit to prepare the following state and then run it:\n",
    "\n",
    "$ \\frac{1}{\\sqrt{2}} \\big( |11101\\rangle + |11001\\rangle \\big) $"
   ]
  },
  {
   "cell_type": "code",
   "execution_count": null,
   "metadata": {
    "colab": {
     "base_uri": "https://localhost:8080/"
    },
    "id": "N_3ojfScBXCF",
    "outputId": "c89f5abc-19a5-446a-86df-5dfcc1a4251d"
   },
   "outputs": [],
   "source": [
    "qc_ex_1 = QuantumCircuit(5)\n",
    "# Write your code here\n"
   ]
  },
  {
   "cell_type": "code",
   "execution_count": null,
   "metadata": {
    "colab": {
     "base_uri": "https://localhost:8080/"
    },
    "id": "FUjuB_rVBXCG",
    "outputId": "6483007b-6da1-413c-becf-95569521e5d0"
   },
   "outputs": [],
   "source": [
    "exercise_superposition_state(qc_ex_1)"
   ]
  },
  {
   "cell_type": "markdown",
   "metadata": {
    "id": "eBOeEjwsBXCG"
   },
   "source": [
    "## Building the observable\n",
    "\n",
    "We will use the `opflow` operators to build the observable. With the following code we build the first term of the gain operator corresponding to the orange and red nodes of the superhero graph."
   ]
  },
  {
   "cell_type": "code",
   "execution_count": null,
   "metadata": {
    "colab": {
     "base_uri": "https://localhost:8080/"
    },
    "id": "sgSltfBRBXCG",
    "outputId": "e6bc7f34-2fd7-4f89-d2f8-aec9208bd193"
   },
   "outputs": [],
   "source": [
    "example_operator = SparsePauliOp(data=[\"IIIZZ\"], coeffs=[-0.5])\n",
    "print(example_operator)"
   ]
  },
  {
   "cell_type": "markdown",
   "metadata": {
    "id": "yAmqKJjtBXCG"
   },
   "source": [
    "## Exercise 2\n",
    "\n",
    "Build the gain operator for the complete superhero graph."
   ]
  },
  {
   "cell_type": "code",
   "execution_count": null,
   "metadata": {
    "colab": {
     "base_uri": "https://localhost:8080/"
    },
    "id": "SknVykREBXCH",
    "outputId": "b6c0921e-9fb2-44de-bb7e-b47726334831"
   },
   "outputs": [],
   "source": [
    "gain_operator_ex = #Write your code here\n",
    "\n",
    "exercise_gain_operator(gain_operator_ex)"
   ]
  },
  {
   "cell_type": "markdown",
   "metadata": {
    "id": "BwPysmtrBXCH"
   },
   "source": [
    "## Estimating the gain\n",
    "Given a `QuantumCircuit` and an `opflow` operator we can estimate the gain using Qiskit."
   ]
  },
  {
   "cell_type": "code",
   "execution_count": null,
   "metadata": {
    "colab": {
     "base_uri": "https://localhost:8080/"
    },
    "id": "Ev-fBVeKBXCH",
    "outputId": "bc39d259-ac1e-4f6e-c80f-14dc8e881de7"
   },
   "outputs": [],
   "source": [
    "data = [\"ZZIII\", \"IZZII\", \"ZIIZI\", \"IIZZI\", \"IIZIZ\", \"IIIZZ\", \"IIIII\"]\n",
    "coeffs = [-0.5,  -0.5, -0.5, -0.5, -0.5, -0.5, 0.5*6]\n",
    "\n",
    "gain_operator = SparsePauliOp(data=data, coeffs=coeffs)\n",
    "\n",
    "# If you want to know the details\n",
    "# the function \"eval_observable_on_state\" is defined in the python file QAOA_AlgoLab.py\n",
    "average_gain = eval_observable_on_state(gain_operator, qc_trial_state, simulator)\n",
    "\n",
    "print(average_gain) #trial"
   ]
  },
  {
   "cell_type": "markdown",
   "metadata": {
    "id": "j8YkugdkBXCI"
   },
   "source": [
    "## Exercise 3\n",
    "Compute the gain for the state $ \\frac{1}{\\sqrt{2}} \\big( |01011\\rangle + |11011\\rangle \\big)$"
   ]
  },
  {
   "cell_type": "code",
   "execution_count": null,
   "metadata": {
    "colab": {
     "base_uri": "https://localhost:8080/",
     "height": 384
    },
    "id": "e-F7_HOEBXCI",
    "outputId": "5914ac55-95dc-495d-8454-8f05487e2b67"
   },
   "outputs": [],
   "source": [
    "qc = QuantumCircuit(5)\n",
    "# Build the circuit here\n",
    "\n",
    "# uncoment the following line to draw the circuit\n",
    "qc.draw('mpl')"
   ]
  },
  {
   "cell_type": "code",
   "execution_count": null,
   "metadata": {
    "colab": {
     "base_uri": "https://localhost:8080/"
    },
    "id": "ppsk3JGYBXCI",
    "outputId": "94b0e7bf-92ee-4595-f52f-0425376efbc1"
   },
   "outputs": [],
   "source": [
    "average_gain = eval_observable_on_state(gain_operator, qc, simulator)\n",
    "exercise_average_gain(average_gain)"
   ]
  },
  {
   "cell_type": "markdown",
   "metadata": {
    "id": "mgDZQXROBXCJ"
   },
   "source": [
    "## Building the graph and showing solution states on it"
   ]
  },
  {
   "cell_type": "markdown",
   "metadata": {
    "id": "aslvQ_apBXCJ"
   },
   "source": [
    "We now display the graph with each superhero represented with a different color. Remember that the conexions on this graph represent shared superpowers.\n",
    "\n",
    "In addition, we use two colors to color the interior of the nodes to represent the different teams: white (0) and gray (1), and we show here a particular choice, NOT the solution given by the algorithm. You can try to edit the variable `x` below to observe how the colors on the interior of the nodes change."
   ]
  },
  {
   "cell_type": "code",
   "execution_count": null,
   "metadata": {
    "colab": {
     "base_uri": "https://localhost:8080/",
     "height": 499
    },
    "id": "WU2xCAEbBXCJ",
    "outputId": "88e5cf03-c422-46f1-92e5-a977204d84b7"
   },
   "outputs": [],
   "source": [
    "# We build the graph using the object Graph from the networkx package\n",
    "graph = nx.Graph()\n",
    "# Adding the nodes\n",
    "graph.add_nodes_from([0,1,2,3,4])\n",
    "# Adding the edges\n",
    "graph.add_edges_from([(0, 1), (0, 2), (1, 2), (1, 4), (2, 3), (3, 4)])\n",
    "\n",
    "# Here, x is the bitstring representing the different teams with 0s for white and 1s for gray\n",
    "# Try editing the bitstring to see how the teams coincide with the 0s and 1s\n",
    "# Remember that the bitstring is read from right to left !!\n",
    "x = '01011'\n",
    "print_solution_graph(graph, x)"
   ]
  },
  {
   "cell_type": "markdown",
   "metadata": {
    "id": "H___O6u3BXCJ"
   },
   "source": [
    "## Inspecting the QAOA quantum circuit\n",
    "\n",
    "The Quantum Approximate Optimization Algorithm (QAOA) is a specific type of algorithm that prepares a parametrized quantum state. This circuit depends on the cost operator, which is the negative of the gain operator."
   ]
  },
  {
   "cell_type": "code",
   "execution_count": null,
   "metadata": {
    "colab": {
     "base_uri": "https://localhost:8080/"
    },
    "id": "ONQ_aw6yBXCK",
    "outputId": "9943becc-33a0-469d-dea3-894b336137eb"
   },
   "outputs": [],
   "source": [
    "data = [\"ZZIII\", \"IZZII\", \"ZIIZI\", \"IIZZI\", \"IIZIZ\", \"IIIZZ\", \"IIIII\"]\n",
    "coeffs = [-0.5, -0.5, -0.5, -0.5, -0.5, -0.5, 0.5*6]\n",
    "\n",
    "gain_operator = SparsePauliOp(data=data, coeffs=coeffs)\n",
    "cost_operator = - gain_operator\n",
    "\n",
    "print(cost_operator)"
   ]
  },
  {
   "cell_type": "markdown",
   "metadata": {
    "id": "7tfEFMaxBXCK"
   },
   "source": [
    "The circuit of QAOA starts by putting all the qubits in an equal superposition to exploit quantum parallelism. Then, controlled RZ gates are applied accordingly with respect to the structure of the graph. The last step is a layer of RX gates.\n",
    "\n",
    "Observe that the QAOAAnsatz object receives a variable called `reps`. This variables controls how many times the cost operator and the RX layer are repeated on the circuit of QAOA."
   ]
  },
  {
   "cell_type": "code",
   "execution_count": null,
   "metadata": {
    "colab": {
     "base_uri": "https://localhost:8080/",
     "height": 384
    },
    "id": "6hF_zHtLBXCK",
    "outputId": "33c112a2-1614-49bf-d9a6-df43d5715235"
   },
   "outputs": [],
   "source": [
    "qaoa_ansatz_1 = QAOAAnsatz(cost_operator, reps=1)\n",
    "\n",
    "# Observe that the circuit is built accordingly to the cost_operator defined above\n",
    "qaoa_ansatz_1.decompose().draw('mpl')"
   ]
  },
  {
   "cell_type": "markdown",
   "metadata": {
    "id": "kEEUN1T-BXCK"
   },
   "source": [
    "## Optimization of the parameters of the QAOA quantum circuit\n",
    "\n",
    "In this part, we perform a classical optimization of the parameters on the quantum gates of the circuit presented above based on a specific classical optimizer. For this, we have to:\n",
    "\n",
    "1) Choose an optimizer. We use SPSA.\n",
    "\n",
    "2) Instantiate the QAOA algorithm from Qiskit.\n",
    "\n",
    "3) Run the optimization process.\n",
    "\n",
    "4) Get the state with higher counts."
   ]
  },
  {
   "cell_type": "code",
   "execution_count": null,
   "metadata": {
    "id": "WxkbA-EGBXCK"
   },
   "outputs": [],
   "source": [
    "# Définir la fonction de coût classique à optimiser\n",
    "def fonction_cout(\n",
    "    params: list[complex], estimator: Estimator, circuit: QuantumCircuit, hamiltonien: SparsePauliOp\n",
    ") -> float:\n",
    "    \"\"\"Fonction de cout qui calcule la valeur moyenne d'un observable (hamiltonien) pour un état donnée (circuit).\n",
    "    Cette valeur moyenne représente le coût de la fonction de coût décrite par l'hamiltonien en entrée. Aussi, le\n",
    "    circuit est paramétré et les paramètres sont définis dans le vecteurs params.\n",
    "    Le tout est évalué à l'aide de l'estimateur (estimator).\n",
    "\n",
    "    Args:\n",
    "        params (list[complex]): Liste de paramètres à insérer dans le circuit en entrée\n",
    "        estimator (Estimator): Calculateur utilisé pour estimer la valeur moyenne désirée.\n",
    "        circuit (QuantumCircuit): Circuit paramétré de QAOA.\n",
    "        hamiltonien (SparsePauliOp): Observable décrivant la fonction de coût du problème donné.\n",
    "\n",
    "    Returns:\n",
    "        float: Coût associé aux paramètres passés en entrée.\n",
    "    \"\"\"\n",
    "\n",
    "    job = estimator.run([(circuit, hamiltonien, params)])\n",
    "    cout = job.result()[0].data.evs\n",
    "    return cout"
   ]
  },
  {
   "cell_type": "code",
   "execution_count": null,
   "metadata": {
    "colab": {
     "base_uri": "https://localhost:8080/"
    },
    "id": "LXcDDo2OBXCL",
    "outputId": "3fd14af5-1b48-4fb9-9843-28c2a8a6a2e3"
   },
   "outputs": [],
   "source": [
    "estimator = Estimator(backend=simulator)\n",
    "\n",
    "# Initialisation des paramètres du circuit de QAOA à utiliser en premier lieu\n",
    "params_init = np.zeros(qaoa_ansatz_1.num_parameters)\n",
    "\n",
    "# Optimisation classique des paramètres du circuit de QAOA à l'aide de Scipy\n",
    "res_opt = minimize(\n",
    "    fonction_cout, params_init, args=(estimator, qaoa_ansatz_1.decompose(reps=2), cost_operator), method=\"COBYLA\"\n",
    ")  # , options={\"tol\": 1e-14}\n",
    "\n",
    "\n",
    "# Extraction des informations suite à l'optimisation\n",
    "cout_opt = res_opt.fun  # Cout optimal trouvé\n",
    "params_opt = res_opt.x  # Paramètres optimaux trouvés\n",
    "\n",
    "# Affichage des résultats obtenus\n",
    "print(\"Cout optimal trouvé :\", cout_opt)\n",
    "print(\"Paramètres optimaux trouvés :\", params_opt)"
   ]
  },
  {
   "cell_type": "markdown",
   "metadata": {
    "id": "5uU53PuDBXCL"
   },
   "source": [
    "After the optimization process, each parameter on each gate has converged to a specific number. When these values are fixed we end up with a specific quantum circuit."
   ]
  },
  {
   "cell_type": "code",
   "execution_count": null,
   "metadata": {
    "colab": {
     "base_uri": "https://localhost:8080/",
     "height": 384
    },
    "id": "unHT7wJlBXCL",
    "outputId": "8b690656-1de1-4412-e28d-dc3d4c3da490",
    "scrolled": false
   },
   "outputs": [],
   "source": [
    "qaoa_ansatz_1_opt = qaoa_ansatz_1.assign_parameters(params_opt)\n",
    "qaoa_ansatz_1_opt.decompose().draw('mpl')"
   ]
  },
  {
   "cell_type": "markdown",
   "metadata": {
    "id": "ucev1M56BXCM"
   },
   "source": [
    "We now run this circuit using a `QuantumInstance` object from Qiskit and then show the histogram of probabilities."
   ]
  },
  {
   "cell_type": "code",
   "execution_count": null,
   "metadata": {
    "colab": {
     "base_uri": "https://localhost:8080/",
     "height": 401
    },
    "id": "QLh-4abtBXCM",
    "outputId": "e13acc89-4f51-4279-e517-a04ac48e78cb",
    "scrolled": true
   },
   "outputs": [],
   "source": [
    "sampler = Sampler(backend=simulator)\n",
    "\n",
    "\n",
    "optimal_qc_with_measurements = qaoa_ansatz_1_opt.copy()\n",
    "optimal_qc_with_measurements.measure_all()\n",
    "final_counts = samxpler.run([optimal_qc_with_measurements.decompose(reps=2)]).result()[0].data.meas.get_counts()\n",
    "plot_histogram(final_counts, figsize=(12,4))"
   ]
  },
  {
   "cell_type": "code",
   "execution_count": null,
   "metadata": {
    "colab": {
     "base_uri": "https://localhost:8080/"
    },
    "id": "EHnT4086BXCM",
    "outputId": "a3bcbfe6-59fa-4620-a055-b8784323fbfb",
    "scrolled": true
   },
   "outputs": [],
   "source": [
    "# Get the state with maximum probability and print it\n",
    "maximum_prob_state = max(final_counts, key=final_counts.get)\n",
    "print(\"Basis state with highest probability: \", maximum_prob_state)"
   ]
  },
  {
   "cell_type": "code",
   "execution_count": null,
   "metadata": {
    "colab": {
     "base_uri": "https://localhost:8080/",
     "height": 499
    },
    "id": "gQFv4WSJBXCN",
    "outputId": "14b94125-ce19-408c-effc-01c2cce1c6bf",
    "scrolled": true
   },
   "outputs": [],
   "source": [
    "# Show the obtained solution on the graph\n",
    "print_solution_graph(graph, maximum_prob_state)"
   ]
  },
  {
   "cell_type": "markdown",
   "metadata": {
    "id": "w0K8ugsYBXCN"
   },
   "source": [
    "### Remark\n",
    "Observe that in the example above the variable `reps = 1` on the instance of the QAOA algorithm. This is one of the reasons why the histogram doesn't show a strong difference between the actual solution of the MAXCUT problem and the other basis states. We will investigate what happens to this histogram when we increase the value of the variable `reps` in the next section."
   ]
  },
  {
   "cell_type": "markdown",
   "metadata": {
    "id": "8EhL8NpiBXCN"
   },
   "source": [
    "## Exercise 4\n",
    "What is the cut value of this solution?"
   ]
  },
  {
   "cell_type": "code",
   "execution_count": null,
   "metadata": {
    "colab": {
     "base_uri": "https://localhost:8080/"
    },
    "id": "NbmbWGSIBXCN",
    "outputId": "a537426d-86db-4de1-9ad8-0cd1f0bbb537"
   },
   "outputs": [],
   "source": [
    "cut_value = # Put the cut value here\n",
    "\n",
    "exercise_4(cut_value, maximum_prob_state)"
   ]
  },
  {
   "cell_type": "markdown",
   "metadata": {
    "id": "QBnjAbcwBXCN"
   },
   "source": [
    "## The impact of layer repetitions\n",
    "\n",
    "We will now show 2 different histograms of basis states and probabilities obtained with different values of the variable `reps` on the QAOA object."
   ]
  },
  {
   "cell_type": "markdown",
   "metadata": {
    "id": "ynMP2VbXBXCO"
   },
   "source": [
    "### `reps = 3`"
   ]
  },
  {
   "cell_type": "code",
   "execution_count": null,
   "metadata": {
    "colab": {
     "base_uri": "https://localhost:8080/",
     "height": 401
    },
    "id": "NpWpRXTWBXCO",
    "outputId": "ada62b92-f702-4736-b35f-a5e0a467254e"
   },
   "outputs": [],
   "source": [
    "# Instantiate QAOA algorithm from Qiskit\n",
    "qaoa_ansatz_3 = QAOAAnsatz(cost_operator, reps=3)\n",
    "\n",
    "params_init = np.zeros(qaoa_ansatz_3.num_parameters)\n",
    "\n",
    "# Optimisation classique des paramètres du circuit de QAOA à l'aide de Scipy\n",
    "res_opt = minimize(\n",
    "    fonction_cout, params_init, args=(estimator, qaoa_ansatz_3.decompose(reps=2), cost_operator), method=\"COBYLA\"\n",
    ")  # , options={\"tol\": 1e-14}\n",
    "\n",
    "\n",
    "# Extraction des informations suite à l'optimisation\n",
    "cout_opt = res_opt.fun  # Cout optimal trouvé\n",
    "params_opt = res_opt.x  # Paramètres optimaux trouvés\n",
    "\n",
    "qaoa_ansatz_3_opt = qaoa_ansatz_3.assign_parameters(params_opt)\n",
    "\n",
    "optimal_qc_with_measurements = qaoa_ansatz_3_opt.copy()\n",
    "optimal_qc_with_measurements.measure_all()\n",
    "final_counts = sampler.run([optimal_qc_with_measurements.decompose(reps=2)]).result()[0].data.meas.get_counts()\n",
    "\n",
    "# plot the histogram\n",
    "plot_histogram(final_counts, figsize=(12,4))"
   ]
  },
  {
   "cell_type": "code",
   "execution_count": null,
   "metadata": {
    "colab": {
     "base_uri": "https://localhost:8080/",
     "height": 499
    },
    "id": "QEVPjfBvBXCO",
    "outputId": "b1af6356-4ef8-4897-b250-26124e29e218"
   },
   "outputs": [],
   "source": [
    "maximum_prob_state = max(final_counts, key=final_counts.get)\n",
    "print_solution_graph(graph, maximum_prob_state)"
   ]
  },
  {
   "cell_type": "markdown",
   "metadata": {
    "id": "QNSnNUa2BXCO"
   },
   "source": [
    "### `reps = 8`"
   ]
  },
  {
   "cell_type": "code",
   "execution_count": null,
   "metadata": {
    "colab": {
     "base_uri": "https://localhost:8080/",
     "height": 401
    },
    "id": "t8VG0PKbBXCO",
    "outputId": "bc89e644-3e6e-4aec-90b0-a60b06cb90b1"
   },
   "outputs": [],
   "source": [
    "# Instantiate QAOA algorithm from Qiskit\n",
    "qaoa_ansatz_8 = QAOAAnsatz(cost_operator, reps=8)\n",
    "\n",
    "params_init = np.zeros(qaoa_ansatz_8.num_parameters)\n",
    "\n",
    "# Optimization process\n",
    "res_opt = minimize(\n",
    "    fonction_cout, params_init, args=(estimator, qaoa_ansatz_8.decompose(reps=2), cost_operator), method=\"COBYLA\"\n",
    ")  # , options={\"tol\": 1e-14}\n",
    "\n",
    "\n",
    "# Extraction des informations suite à l'optimisation\n",
    "cout_opt = res_opt.fun  # Cout optimal trouvé\n",
    "params_opt = res_opt.x  # Paramètres optimaux trouvés\n",
    "\n",
    "# Getting the histogram of counts of the optimal circuit\n",
    "qaoa_ansatz_8_opt = qaoa_ansatz_8.assign_parameters(params_opt)\n",
    "\n",
    "optimal_qc_with_measurements = qaoa_ansatz_8_opt.copy()\n",
    "optimal_qc_with_measurements.measure_all()\n",
    "final_counts = sampler.run([optimal_qc_with_measurements.decompose(reps=2)]).result()[0].data.meas.get_counts()\n",
    "\n",
    "# plot the histogram\n",
    "plot_histogram(final_counts, figsize=(12,4))"
   ]
  },
  {
   "cell_type": "code",
   "execution_count": null,
   "metadata": {
    "colab": {
     "base_uri": "https://localhost:8080/",
     "height": 499
    },
    "id": "vVA84W6wBXCP",
    "outputId": "d9832fe3-5a5d-4580-9269-32f76b3976dc"
   },
   "outputs": [],
   "source": [
    "maximum_prob_state = max(final_counts, key=final_counts.get)\n",
    "print_solution_graph(graph, maximum_prob_state)"
   ]
  },
  {
   "cell_type": "markdown",
   "metadata": {
    "id": "qKl9V0GSBXCP"
   },
   "source": [
    "## Observations\n",
    "\n",
    "You may have noticed that QAOA doesn't always obtains the optimal solution and that this sometimes depends on how high is the value of the `reps` variable. Remember that QAOA stands for Quantum <strong><i>Approximate</i></strong> Optimization Algorithm, which means that the algorithm may not always find the optimal solution. Nevertheless, QAOA is still usefull to obtain approximate solutions to hard problems that cannot be obtained by classical algorithms.\n",
    "\n",
    "Finally, we mention a mathematical result related to the phenomenon of getting better solutions when we increase the variable `reps`.\n",
    "\n",
    "### Theorem.\n",
    "The quality of the approximation made by the algorithm increases with the number of layers.\n"
   ]
  },
  {
   "cell_type": "markdown",
   "metadata": {
    "id": "c6PBREfFBXCP"
   },
   "source": [
    "## Without optimization\n",
    "\n",
    "According to the theory of quantum annealing, one can classicaly compute a set of parameters that allow us to\n",
    "compute the average value that is closest to an optimal result. It is not clear if this approach\n",
    "will also work on systems with a bigger systems.\n"
   ]
  },
  {
   "cell_type": "code",
   "execution_count": null,
   "metadata": {
    "colab": {
     "base_uri": "https://localhost:8080/",
     "height": 541
    },
    "id": "lckPrziTBXCP",
    "outputId": "59a2bbdb-36f4-4ca0-ed7a-651d78022d1a",
    "pycharm": {
     "name": "#%%\n"
    }
   },
   "outputs": [],
   "source": [
    "reps = 3\n",
    "\n",
    "# qaoa_n_reps = QAOA(optimizer=optimizer,quantum_instance=quantum_instance,reps=reps)\n",
    "\n",
    "betas = [-1., -0.6, -0.2]\n",
    "gammas = [0.2, 0.6, 1.]\n",
    "\n",
    "initial_qc = qaoa_ansatz_3.assign_parameters(betas + gammas)\n",
    "initial_qc.decompose(reps=2).draw()"
   ]
  },
  {
   "cell_type": "code",
   "execution_count": null,
   "metadata": {
    "colab": {
     "base_uri": "https://localhost:8080/",
     "height": 401
    },
    "id": "RzzhUaQ7BXCQ",
    "outputId": "be1be01d-cc64-4e9c-b8f8-94fd76af7808",
    "pycharm": {
     "name": "#%%\n"
    }
   },
   "outputs": [],
   "source": [
    "initial_qc.measure_all()\n",
    "final_counts = sampler.run([initial_qc.decompose(reps=2)]).result()[0].data.meas.get_counts()\n",
    "plot_histogram(final_counts, figsize=(12,4))"
   ]
  },
  {
   "cell_type": "markdown",
   "metadata": {
    "id": "pt3mKkhLBXCQ"
   },
   "source": [
    "## Appreciation and evaluation form\n",
    "\n",
    "You can use this notebook to help you solve the test [HERE](https://forms.office.com/Pages/ResponsePage.aspx?id=fn_X3Rof9E-j8Sm0oIYh58RoI-LCaGxAqo7x_1-ZdwRUOFdSRkNXVDNVTEFIWjVFODJLNDA4QUQ0OSQlQCN0PWcu).\n",
    "You have to respond correctly to at least 2 questions out of 3 on the test inside the form.\n",
    "There is also a section concerning your appreciation of the workshop. You have 24 hours to respond!\n",
    "\n"
   ]
  },
  {
   "cell_type": "markdown",
   "metadata": {
    "id": "z4UdIUwTBXCQ"
   },
   "source": [
    "# Link to the form\n",
    "\n",
    "[THE FORM](https://forms.office.com/Pages/ResponsePage.aspx?id=fn_X3Rof9E-j8Sm0oIYh58RoI-LCaGxAqo7x_1-ZdwRUOFdSRkNXVDNVTEFIWjVFODJLNDA4QUQ0OSQlQCN0PWcu)"
   ]
  },
  {
   "cell_type": "markdown",
   "metadata": {
    "id": "lxBcY9FuBXCQ"
   },
   "source": []
  }
 ],
 "metadata": {
  "colab": {
   "provenance": []
  },
  "interpreter": {
   "hash": "b55c30410beb22357ac18ba153fd04a8b84d0701b2c100ac7a9796ea7045a76b"
  },
  "kernelspec": {
   "display_name": "Python 3",
   "language": "python",
   "name": "python3"
  },
  "language_info": {
   "codemirror_mode": {
    "name": "ipython",
    "version": 3
   },
   "file_extension": ".py",
   "mimetype": "text/x-python",
   "name": "python",
   "nbconvert_exporter": "python",
   "pygments_lexer": "ipython3",
   "version": "3.8.5"
  }
 },
 "nbformat": 4,
 "nbformat_minor": 1
}
